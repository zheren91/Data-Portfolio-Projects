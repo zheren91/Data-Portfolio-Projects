{
 "cells": [
  {
   "cell_type": "code",
   "execution_count": 4,
   "id": "01a493f6",
   "metadata": {},
   "outputs": [],
   "source": [
    "# load packages\n",
    "\n",
    "import pandas as pd\n",
    "import numpy as np\n",
    "import matplotlib.pyplot as plt"
   ]
  },
  {
   "cell_type": "code",
   "execution_count": 5,
   "id": "c614dc5e",
   "metadata": {},
   "outputs": [],
   "source": [
    "# Read csv files\n",
    "client = pd.read_csv('clients.csv')\n",
    "nps_main = pd.read_csv('nps_main.csv')"
   ]
  },
  {
   "cell_type": "code",
   "execution_count": 6,
   "id": "e05ff6bc",
   "metadata": {},
   "outputs": [
    {
     "data": {
      "text/html": [
       "<div>\n",
       "<style scoped>\n",
       "    .dataframe tbody tr th:only-of-type {\n",
       "        vertical-align: middle;\n",
       "    }\n",
       "\n",
       "    .dataframe tbody tr th {\n",
       "        vertical-align: top;\n",
       "    }\n",
       "\n",
       "    .dataframe thead th {\n",
       "        text-align: right;\n",
       "    }\n",
       "</style>\n",
       "<table border=\"1\" class=\"dataframe\">\n",
       "  <thead>\n",
       "    <tr style=\"text-align: right;\">\n",
       "      <th></th>\n",
       "      <th>id</th>\n",
       "      <th>dt</th>\n",
       "      <th>nps_val</th>\n",
       "      <th>clnt_id</th>\n",
       "    </tr>\n",
       "  </thead>\n",
       "  <tbody>\n",
       "    <tr>\n",
       "      <th>0</th>\n",
       "      <td>nps_20_1</td>\n",
       "      <td>2020-08-07</td>\n",
       "      <td>8</td>\n",
       "      <td>241fc60e21287c1535956694d8b7aea5</td>\n",
       "    </tr>\n",
       "    <tr>\n",
       "      <th>1</th>\n",
       "      <td>nps_20_2</td>\n",
       "      <td>2020-08-03</td>\n",
       "      <td>9</td>\n",
       "      <td>403833a75aeef31f843f2bf99229e443</td>\n",
       "    </tr>\n",
       "    <tr>\n",
       "      <th>2</th>\n",
       "      <td>nps_20_3</td>\n",
       "      <td>2020-08-03</td>\n",
       "      <td>10</td>\n",
       "      <td>3cb512bc6b731a84ecb192906b6855a6</td>\n",
       "    </tr>\n",
       "    <tr>\n",
       "      <th>3</th>\n",
       "      <td>nps_20_5</td>\n",
       "      <td>2020-08-08</td>\n",
       "      <td>7</td>\n",
       "      <td>9f942c054e602b38be51f44cf35ca468</td>\n",
       "    </tr>\n",
       "    <tr>\n",
       "      <th>4</th>\n",
       "      <td>nps_20_7</td>\n",
       "      <td>2020-08-12</td>\n",
       "      <td>9</td>\n",
       "      <td>093e70d41ecf84097a4acf8eb338469a</td>\n",
       "    </tr>\n",
       "  </tbody>\n",
       "</table>\n",
       "</div>"
      ],
      "text/plain": [
       "         id          dt  nps_val                           clnt_id\n",
       "0  nps_20_1  2020-08-07        8  241fc60e21287c1535956694d8b7aea5\n",
       "1  nps_20_2  2020-08-03        9  403833a75aeef31f843f2bf99229e443\n",
       "2  nps_20_3  2020-08-03       10  3cb512bc6b731a84ecb192906b6855a6\n",
       "3  nps_20_5  2020-08-08        7  9f942c054e602b38be51f44cf35ca468\n",
       "4  nps_20_7  2020-08-12        9  093e70d41ecf84097a4acf8eb338469a"
      ]
     },
     "execution_count": 6,
     "metadata": {},
     "output_type": "execute_result"
    }
   ],
   "source": [
    "nps_main.head()\n"
   ]
  },
  {
   "cell_type": "code",
   "execution_count": 7,
   "id": "597f171f",
   "metadata": {},
   "outputs": [
    {
     "data": {
      "text/html": [
       "<div>\n",
       "<style scoped>\n",
       "    .dataframe tbody tr th:only-of-type {\n",
       "        vertical-align: middle;\n",
       "    }\n",
       "\n",
       "    .dataframe tbody tr th {\n",
       "        vertical-align: top;\n",
       "    }\n",
       "\n",
       "    .dataframe thead th {\n",
       "        text-align: right;\n",
       "    }\n",
       "</style>\n",
       "<table border=\"1\" class=\"dataframe\">\n",
       "  <thead>\n",
       "    <tr style=\"text-align: right;\">\n",
       "      <th></th>\n",
       "      <th>id</th>\n",
       "      <th>name</th>\n",
       "      <th>type</th>\n",
       "      <th>location</th>\n",
       "    </tr>\n",
       "  </thead>\n",
       "  <tbody>\n",
       "    <tr>\n",
       "      <th>0</th>\n",
       "      <td>148c2b5c1775f3730b48c12f78875c01</td>\n",
       "      <td>61ab0c31eda41b7221e49dab640792ee</td>\n",
       "      <td>smb</td>\n",
       "      <td>prov_6</td>\n",
       "    </tr>\n",
       "    <tr>\n",
       "      <th>1</th>\n",
       "      <td>32c5d7050fe8af48113ef74f6a69e28a</td>\n",
       "      <td>f7979f601627be7572a2da2300622732</td>\n",
       "      <td>smb</td>\n",
       "      <td>prov_6</td>\n",
       "    </tr>\n",
       "    <tr>\n",
       "      <th>2</th>\n",
       "      <td>84d96e01baed384d82e62e6dd3acdeb2</td>\n",
       "      <td>b24b6b01188f21b1570a90180b6b7552</td>\n",
       "      <td>maj</td>\n",
       "      <td>prov_9</td>\n",
       "    </tr>\n",
       "    <tr>\n",
       "      <th>3</th>\n",
       "      <td>8b3bdc1fccf6b4fc0fcb7b6607b1b25d</td>\n",
       "      <td>de079930916c8f63b4dc0f2b8d9596d4</td>\n",
       "      <td>smb</td>\n",
       "      <td>prov_5</td>\n",
       "    </tr>\n",
       "    <tr>\n",
       "      <th>4</th>\n",
       "      <td>b054c357e6f8b809a705dccae48f7b29</td>\n",
       "      <td>5476f58c177d25f1e95259ef0939d395</td>\n",
       "      <td>mm</td>\n",
       "      <td>prov_9</td>\n",
       "    </tr>\n",
       "  </tbody>\n",
       "</table>\n",
       "</div>"
      ],
      "text/plain": [
       "                                 id                              name type  \\\n",
       "0  148c2b5c1775f3730b48c12f78875c01  61ab0c31eda41b7221e49dab640792ee  smb   \n",
       "1  32c5d7050fe8af48113ef74f6a69e28a  f7979f601627be7572a2da2300622732  smb   \n",
       "2  84d96e01baed384d82e62e6dd3acdeb2  b24b6b01188f21b1570a90180b6b7552  maj   \n",
       "3  8b3bdc1fccf6b4fc0fcb7b6607b1b25d  de079930916c8f63b4dc0f2b8d9596d4  smb   \n",
       "4  b054c357e6f8b809a705dccae48f7b29  5476f58c177d25f1e95259ef0939d395   mm   \n",
       "\n",
       "  location  \n",
       "0   prov_6  \n",
       "1   prov_6  \n",
       "2   prov_9  \n",
       "3   prov_5  \n",
       "4   prov_9  "
      ]
     },
     "execution_count": 7,
     "metadata": {},
     "output_type": "execute_result"
    }
   ],
   "source": [
    "client.head()"
   ]
  },
  {
   "cell_type": "code",
   "execution_count": 8,
   "id": "d9edbfc8",
   "metadata": {},
   "outputs": [
    {
     "name": "stdout",
     "output_type": "stream",
     "text": [
      "RangeIndex(start=0, stop=964, step=1)\n"
     ]
    }
   ],
   "source": [
    "print(nps_main.index)"
   ]
  },
  {
   "cell_type": "code",
   "execution_count": 9,
   "id": "8d4a8325",
   "metadata": {},
   "outputs": [],
   "source": [
    "# Merge np_main to client on 'id = clnt_id'\n",
    "\n",
    "df = nps_main.merge( client, how = 'inner', left_on = 'clnt_id', right_on = 'id')"
   ]
  },
  {
   "cell_type": "code",
   "execution_count": 10,
   "id": "83e3ebd6",
   "metadata": {},
   "outputs": [
    {
     "name": "stdout",
     "output_type": "stream",
     "text": [
      "Index(['id_x', 'dt', 'nps_val', 'clnt_id', 'id_y', 'name', 'type', 'location'], dtype='object')\n"
     ]
    }
   ],
   "source": [
    "print(df.columns)"
   ]
  },
  {
   "cell_type": "code",
   "execution_count": 11,
   "id": "5eea69b8",
   "metadata": {},
   "outputs": [
    {
     "data": {
      "text/html": [
       "<div>\n",
       "<style scoped>\n",
       "    .dataframe tbody tr th:only-of-type {\n",
       "        vertical-align: middle;\n",
       "    }\n",
       "\n",
       "    .dataframe tbody tr th {\n",
       "        vertical-align: top;\n",
       "    }\n",
       "\n",
       "    .dataframe thead th {\n",
       "        text-align: right;\n",
       "    }\n",
       "</style>\n",
       "<table border=\"1\" class=\"dataframe\">\n",
       "  <thead>\n",
       "    <tr style=\"text-align: right;\">\n",
       "      <th></th>\n",
       "      <th>id_x</th>\n",
       "      <th>dt</th>\n",
       "      <th>nps_val</th>\n",
       "      <th>clnt_id</th>\n",
       "      <th>id_y</th>\n",
       "      <th>name</th>\n",
       "      <th>type</th>\n",
       "      <th>location</th>\n",
       "    </tr>\n",
       "  </thead>\n",
       "  <tbody>\n",
       "    <tr>\n",
       "      <th>0</th>\n",
       "      <td>nps_20_1</td>\n",
       "      <td>2020-08-07</td>\n",
       "      <td>8</td>\n",
       "      <td>241fc60e21287c1535956694d8b7aea5</td>\n",
       "      <td>241fc60e21287c1535956694d8b7aea5</td>\n",
       "      <td>7daf0bd75f47046b3b1ecf0c4aa6ba32</td>\n",
       "      <td>smb</td>\n",
       "      <td>prov_5</td>\n",
       "    </tr>\n",
       "    <tr>\n",
       "      <th>1</th>\n",
       "      <td>nps_20_135</td>\n",
       "      <td>2020-08-16</td>\n",
       "      <td>10</td>\n",
       "      <td>241fc60e21287c1535956694d8b7aea5</td>\n",
       "      <td>241fc60e21287c1535956694d8b7aea5</td>\n",
       "      <td>7daf0bd75f47046b3b1ecf0c4aa6ba32</td>\n",
       "      <td>smb</td>\n",
       "      <td>prov_5</td>\n",
       "    </tr>\n",
       "    <tr>\n",
       "      <th>2</th>\n",
       "      <td>nps_20_2</td>\n",
       "      <td>2020-08-03</td>\n",
       "      <td>9</td>\n",
       "      <td>403833a75aeef31f843f2bf99229e443</td>\n",
       "      <td>403833a75aeef31f843f2bf99229e443</td>\n",
       "      <td>61de994b5dddb37ee88519ff51b0a77a</td>\n",
       "      <td>smb</td>\n",
       "      <td>prov_3</td>\n",
       "    </tr>\n",
       "    <tr>\n",
       "      <th>3</th>\n",
       "      <td>nps_20_3</td>\n",
       "      <td>2020-08-03</td>\n",
       "      <td>10</td>\n",
       "      <td>3cb512bc6b731a84ecb192906b6855a6</td>\n",
       "      <td>3cb512bc6b731a84ecb192906b6855a6</td>\n",
       "      <td>3d04ce930b9bdd67ad1982abb3872fad</td>\n",
       "      <td>maj</td>\n",
       "      <td>prov_4</td>\n",
       "    </tr>\n",
       "    <tr>\n",
       "      <th>4</th>\n",
       "      <td>nps_20_5</td>\n",
       "      <td>2020-08-08</td>\n",
       "      <td>7</td>\n",
       "      <td>9f942c054e602b38be51f44cf35ca468</td>\n",
       "      <td>9f942c054e602b38be51f44cf35ca468</td>\n",
       "      <td>2f7b360f63f9dfd3306b0b1aef6986b3</td>\n",
       "      <td>mm</td>\n",
       "      <td>prov_3</td>\n",
       "    </tr>\n",
       "  </tbody>\n",
       "</table>\n",
       "</div>"
      ],
      "text/plain": [
       "         id_x          dt  nps_val                           clnt_id  \\\n",
       "0    nps_20_1  2020-08-07        8  241fc60e21287c1535956694d8b7aea5   \n",
       "1  nps_20_135  2020-08-16       10  241fc60e21287c1535956694d8b7aea5   \n",
       "2    nps_20_2  2020-08-03        9  403833a75aeef31f843f2bf99229e443   \n",
       "3    nps_20_3  2020-08-03       10  3cb512bc6b731a84ecb192906b6855a6   \n",
       "4    nps_20_5  2020-08-08        7  9f942c054e602b38be51f44cf35ca468   \n",
       "\n",
       "                               id_y                              name type  \\\n",
       "0  241fc60e21287c1535956694d8b7aea5  7daf0bd75f47046b3b1ecf0c4aa6ba32  smb   \n",
       "1  241fc60e21287c1535956694d8b7aea5  7daf0bd75f47046b3b1ecf0c4aa6ba32  smb   \n",
       "2  403833a75aeef31f843f2bf99229e443  61de994b5dddb37ee88519ff51b0a77a  smb   \n",
       "3  3cb512bc6b731a84ecb192906b6855a6  3d04ce930b9bdd67ad1982abb3872fad  maj   \n",
       "4  9f942c054e602b38be51f44cf35ca468  2f7b360f63f9dfd3306b0b1aef6986b3   mm   \n",
       "\n",
       "  location  \n",
       "0   prov_5  \n",
       "1   prov_5  \n",
       "2   prov_3  \n",
       "3   prov_4  \n",
       "4   prov_3  "
      ]
     },
     "execution_count": 11,
     "metadata": {},
     "output_type": "execute_result"
    }
   ],
   "source": [
    "df.head()"
   ]
  },
  {
   "cell_type": "code",
   "execution_count": 12,
   "id": "7c6726c2",
   "metadata": {},
   "outputs": [],
   "source": [
    "# compute df['year'] to date time format\n",
    "df['year'] = pd.to_datetime(df['dt'], infer_datetime_format = True,\n",
    "                                          errors = 'coerce')"
   ]
  },
  {
   "cell_type": "code",
   "execution_count": 13,
   "id": "3b1e363b",
   "metadata": {},
   "outputs": [],
   "source": [
    "# Extract for year\n",
    "\n",
    "df['year'] = df['year'].dt.strftime(\"%Y\")\n"
   ]
  },
  {
   "cell_type": "code",
   "execution_count": 14,
   "id": "29167efd",
   "metadata": {},
   "outputs": [],
   "source": [
    "# create ['category'] based on bins 0-6: detractors, 7-8: passives, 9-10: promoters\n",
    "df['category'] = pd.cut(df['nps_val'], bins = [0,6,8,10], labels = ['detractors', 'passives', 'promoters'])"
   ]
  },
  {
   "cell_type": "code",
   "execution_count": 15,
   "id": "281504cd",
   "metadata": {},
   "outputs": [
    {
     "data": {
      "text/plain": [
       "0        passives\n",
       "1       promoters\n",
       "2       promoters\n",
       "3       promoters\n",
       "4        passives\n",
       "          ...    \n",
       "959     promoters\n",
       "960    detractors\n",
       "961    detractors\n",
       "962    detractors\n",
       "963     promoters\n",
       "Name: category, Length: 964, dtype: category\n",
       "Categories (3, object): ['detractors' < 'passives' < 'promoters']"
      ]
     },
     "execution_count": 15,
     "metadata": {},
     "output_type": "execute_result"
    }
   ],
   "source": [
    "df['category']"
   ]
  },
  {
   "cell_type": "code",
   "execution_count": 16,
   "id": "d5d20e4f",
   "metadata": {},
   "outputs": [],
   "source": [
    "# smb type\n",
    "df_smb = df[df['type'] == 'smb']"
   ]
  },
  {
   "cell_type": "code",
   "execution_count": 17,
   "id": "14e8ad98",
   "metadata": {},
   "outputs": [],
   "source": [
    "# mm type\n",
    "df_mm = df[df['type'] == 'mm']"
   ]
  },
  {
   "cell_type": "code",
   "execution_count": 18,
   "id": "6eed3955",
   "metadata": {},
   "outputs": [],
   "source": [
    "# year 2020 combined\n",
    "df_2020 = df[df['year'] == '2020']"
   ]
  },
  {
   "cell_type": "code",
   "execution_count": 19,
   "id": "e5126ea0",
   "metadata": {},
   "outputs": [],
   "source": [
    "# year 2021 combined\n",
    "df_2021 = df[df['year'] == '2021']"
   ]
  },
  {
   "cell_type": "code",
   "execution_count": 20,
   "id": "64ed3fc2",
   "metadata": {},
   "outputs": [],
   "source": [
    "# mm 2020 and 2021\n",
    "df_mm_2020 = df_2020[df_2020['type'] == 'mm']\n",
    "df_mm_2021= df_2021[df_2021['type'] == 'mm']"
   ]
  },
  {
   "cell_type": "code",
   "execution_count": 21,
   "id": "12f3e3a5",
   "metadata": {},
   "outputs": [],
   "source": [
    "# smb 2020 and 2021\n",
    "df_smb_2020 = df_2020[df_2020['type'] == 'smb']\n",
    "df_smb_2021= df_2021[df_2021['type'] == 'smb']"
   ]
  },
  {
   "cell_type": "markdown",
   "id": "ca200c70",
   "metadata": {},
   "source": [
    "# Smb and mm group comparison\n"
   ]
  },
  {
   "cell_type": "code",
   "execution_count": 22,
   "id": "1e8ef209",
   "metadata": {},
   "outputs": [
    {
     "data": {
      "text/html": [
       "<div>\n",
       "<style scoped>\n",
       "    .dataframe tbody tr th:only-of-type {\n",
       "        vertical-align: middle;\n",
       "    }\n",
       "\n",
       "    .dataframe tbody tr th {\n",
       "        vertical-align: top;\n",
       "    }\n",
       "\n",
       "    .dataframe thead th {\n",
       "        text-align: right;\n",
       "    }\n",
       "</style>\n",
       "<table border=\"1\" class=\"dataframe\">\n",
       "  <thead>\n",
       "    <tr style=\"text-align: right;\">\n",
       "      <th>year</th>\n",
       "      <th>2020</th>\n",
       "      <th>2021</th>\n",
       "    </tr>\n",
       "    <tr>\n",
       "      <th>category</th>\n",
       "      <th></th>\n",
       "      <th></th>\n",
       "    </tr>\n",
       "  </thead>\n",
       "  <tbody>\n",
       "    <tr>\n",
       "      <th>detractors</th>\n",
       "      <td>39</td>\n",
       "      <td>128</td>\n",
       "    </tr>\n",
       "    <tr>\n",
       "      <th>passives</th>\n",
       "      <td>64</td>\n",
       "      <td>231</td>\n",
       "    </tr>\n",
       "    <tr>\n",
       "      <th>promoters</th>\n",
       "      <td>103</td>\n",
       "      <td>390</td>\n",
       "    </tr>\n",
       "  </tbody>\n",
       "</table>\n",
       "</div>"
      ],
      "text/plain": [
       "year        2020  2021\n",
       "category              \n",
       "detractors    39   128\n",
       "passives      64   231\n",
       "promoters    103   390"
      ]
     },
     "execution_count": 22,
     "metadata": {},
     "output_type": "execute_result"
    }
   ],
   "source": [
    "# Cross tab counts\n",
    "pd.crosstab(df['category'], df['year'])"
   ]
  },
  {
   "cell_type": "code",
   "execution_count": 23,
   "id": "4dc095aa",
   "metadata": {},
   "outputs": [
    {
     "data": {
      "text/html": [
       "<div>\n",
       "<style scoped>\n",
       "    .dataframe tbody tr th:only-of-type {\n",
       "        vertical-align: middle;\n",
       "    }\n",
       "\n",
       "    .dataframe tbody tr th {\n",
       "        vertical-align: top;\n",
       "    }\n",
       "\n",
       "    .dataframe thead th {\n",
       "        text-align: right;\n",
       "    }\n",
       "</style>\n",
       "<table border=\"1\" class=\"dataframe\">\n",
       "  <thead>\n",
       "    <tr style=\"text-align: right;\">\n",
       "      <th>year</th>\n",
       "      <th>2020</th>\n",
       "      <th>2021</th>\n",
       "    </tr>\n",
       "    <tr>\n",
       "      <th>category</th>\n",
       "      <th></th>\n",
       "      <th></th>\n",
       "    </tr>\n",
       "  </thead>\n",
       "  <tbody>\n",
       "    <tr>\n",
       "      <th>detractors</th>\n",
       "      <td>0.18932</td>\n",
       "      <td>0.170895</td>\n",
       "    </tr>\n",
       "    <tr>\n",
       "      <th>passives</th>\n",
       "      <td>0.31068</td>\n",
       "      <td>0.308411</td>\n",
       "    </tr>\n",
       "    <tr>\n",
       "      <th>promoters</th>\n",
       "      <td>0.50000</td>\n",
       "      <td>0.520694</td>\n",
       "    </tr>\n",
       "  </tbody>\n",
       "</table>\n",
       "</div>"
      ],
      "text/plain": [
       "year           2020      2021\n",
       "category                     \n",
       "detractors  0.18932  0.170895\n",
       "passives    0.31068  0.308411\n",
       "promoters   0.50000  0.520694"
      ]
     },
     "execution_count": 23,
     "metadata": {},
     "output_type": "execute_result"
    }
   ],
   "source": [
    "# Cross tab proportions\n",
    "pd.crosstab(df['category'], df['year'] ,  normalize = 'columns')"
   ]
  },
  {
   "cell_type": "code",
   "execution_count": 25,
   "id": "4391884f",
   "metadata": {},
   "outputs": [
    {
     "data": {
      "image/png": "[encoded data removed]",
      "text/plain": [
       "<Figure size 1440x576 with 2 Axes>"
      ]
     },
     "metadata": {},
     "output_type": "display_data"
    }
   ],
   "source": [
    "# 2020 to 2021 proportion comparison\n",
    "\n",
    "fig, (ax1, ax2) = plt.subplots(1,2, figsize=(20,8))\n",
    "df_2020['category'].value_counts().plot(kind = 'pie', ylabel = '', radius = 1, autopct='%1.1f%%', ax=ax1)\n",
    "df_2021['category'].value_counts().plot(kind = 'pie', ylabel = '', radius = 1, autopct='%1.1f%%', ax=ax2)\n",
    "ax1.title.set_text('2020')\n",
    "ax2.title.set_text('2021')\n",
    "plt.show()"
   ]
  },
  {
   "cell_type": "markdown",
   "id": "fda1a7df",
   "metadata": {},
   "source": [
    "\n",
    "- The number of promoters increased from 103 in 2020 to 390 in 2021.\n",
    "- The number of non-promoters were 103 in 2020, and 359 in 2021.\n",
    "- The number of proportion of promoters increased from 50% in 2020 to 52% in 2021.\n"
   ]
  },
  {
   "cell_type": "markdown",
   "id": "070b9980",
   "metadata": {},
   "source": [
    "# Smb and mm comparison by year"
   ]
  },
  {
   "cell_type": "code",
   "execution_count": 26,
   "id": "fd88c209",
   "metadata": {},
   "outputs": [
    {
     "data": {
      "text/html": [
       "<div>\n",
       "<style scoped>\n",
       "    .dataframe tbody tr th:only-of-type {\n",
       "        vertical-align: middle;\n",
       "    }\n",
       "\n",
       "    .dataframe tbody tr th {\n",
       "        vertical-align: top;\n",
       "    }\n",
       "\n",
       "    .dataframe thead th {\n",
       "        text-align: right;\n",
       "    }\n",
       "</style>\n",
       "<table border=\"1\" class=\"dataframe\">\n",
       "  <thead>\n",
       "    <tr style=\"text-align: right;\">\n",
       "      <th>year</th>\n",
       "      <th>2020</th>\n",
       "      <th>2021</th>\n",
       "    </tr>\n",
       "    <tr>\n",
       "      <th>category</th>\n",
       "      <th></th>\n",
       "      <th></th>\n",
       "    </tr>\n",
       "  </thead>\n",
       "  <tbody>\n",
       "    <tr>\n",
       "      <th>detractors</th>\n",
       "      <td>16</td>\n",
       "      <td>78</td>\n",
       "    </tr>\n",
       "    <tr>\n",
       "      <th>passives</th>\n",
       "      <td>28</td>\n",
       "      <td>143</td>\n",
       "    </tr>\n",
       "    <tr>\n",
       "      <th>promoters</th>\n",
       "      <td>34</td>\n",
       "      <td>192</td>\n",
       "    </tr>\n",
       "  </tbody>\n",
       "</table>\n",
       "</div>"
      ],
      "text/plain": [
       "year        2020  2021\n",
       "category              \n",
       "detractors    16    78\n",
       "passives      28   143\n",
       "promoters     34   192"
      ]
     },
     "execution_count": 26,
     "metadata": {},
     "output_type": "execute_result"
    }
   ],
   "source": [
    "# cross tab mm only\n",
    "pd.crosstab(df_mm['category'], df_mm['year'])"
   ]
  },
  {
   "cell_type": "code",
   "execution_count": 27,
   "id": "be5a96f6",
   "metadata": {},
   "outputs": [
    {
     "data": {
      "text/html": [
       "<div>\n",
       "<style scoped>\n",
       "    .dataframe tbody tr th:only-of-type {\n",
       "        vertical-align: middle;\n",
       "    }\n",
       "\n",
       "    .dataframe tbody tr th {\n",
       "        vertical-align: top;\n",
       "    }\n",
       "\n",
       "    .dataframe thead th {\n",
       "        text-align: right;\n",
       "    }\n",
       "</style>\n",
       "<table border=\"1\" class=\"dataframe\">\n",
       "  <thead>\n",
       "    <tr style=\"text-align: right;\">\n",
       "      <th>year</th>\n",
       "      <th>2020</th>\n",
       "      <th>2021</th>\n",
       "    </tr>\n",
       "    <tr>\n",
       "      <th>category</th>\n",
       "      <th></th>\n",
       "      <th></th>\n",
       "    </tr>\n",
       "  </thead>\n",
       "  <tbody>\n",
       "    <tr>\n",
       "      <th>detractors</th>\n",
       "      <td>0.205128</td>\n",
       "      <td>0.188862</td>\n",
       "    </tr>\n",
       "    <tr>\n",
       "      <th>passives</th>\n",
       "      <td>0.358974</td>\n",
       "      <td>0.346247</td>\n",
       "    </tr>\n",
       "    <tr>\n",
       "      <th>promoters</th>\n",
       "      <td>0.435897</td>\n",
       "      <td>0.464891</td>\n",
       "    </tr>\n",
       "  </tbody>\n",
       "</table>\n",
       "</div>"
      ],
      "text/plain": [
       "year            2020      2021\n",
       "category                      \n",
       "detractors  0.205128  0.188862\n",
       "passives    0.358974  0.346247\n",
       "promoters   0.435897  0.464891"
      ]
     },
     "execution_count": 27,
     "metadata": {},
     "output_type": "execute_result"
    }
   ],
   "source": [
    "# cross tab mm only\n",
    "pd.crosstab(df_mm['category'], df_mm['year'], normalize = 'columns')"
   ]
  },
  {
   "cell_type": "code",
   "execution_count": 28,
   "id": "3f065283",
   "metadata": {},
   "outputs": [
    {
     "data": {
      "text/html": [
       "<div>\n",
       "<style scoped>\n",
       "    .dataframe tbody tr th:only-of-type {\n",
       "        vertical-align: middle;\n",
       "    }\n",
       "\n",
       "    .dataframe tbody tr th {\n",
       "        vertical-align: top;\n",
       "    }\n",
       "\n",
       "    .dataframe thead th {\n",
       "        text-align: right;\n",
       "    }\n",
       "</style>\n",
       "<table border=\"1\" class=\"dataframe\">\n",
       "  <thead>\n",
       "    <tr style=\"text-align: right;\">\n",
       "      <th>year</th>\n",
       "      <th>2020</th>\n",
       "      <th>2021</th>\n",
       "    </tr>\n",
       "    <tr>\n",
       "      <th>category</th>\n",
       "      <th></th>\n",
       "      <th></th>\n",
       "    </tr>\n",
       "  </thead>\n",
       "  <tbody>\n",
       "    <tr>\n",
       "      <th>detractors</th>\n",
       "      <td>13</td>\n",
       "      <td>19</td>\n",
       "    </tr>\n",
       "    <tr>\n",
       "      <th>passives</th>\n",
       "      <td>20</td>\n",
       "      <td>34</td>\n",
       "    </tr>\n",
       "    <tr>\n",
       "      <th>promoters</th>\n",
       "      <td>44</td>\n",
       "      <td>88</td>\n",
       "    </tr>\n",
       "  </tbody>\n",
       "</table>\n",
       "</div>"
      ],
      "text/plain": [
       "year        2020  2021\n",
       "category              \n",
       "detractors    13    19\n",
       "passives      20    34\n",
       "promoters     44    88"
      ]
     },
     "execution_count": 28,
     "metadata": {},
     "output_type": "execute_result"
    }
   ],
   "source": [
    "# cross tab smb only\n",
    "pd.crosstab(df_smb['category'], df_smb['year'])"
   ]
  },
  {
   "cell_type": "code",
   "execution_count": 29,
   "id": "e34b9eb1",
   "metadata": {},
   "outputs": [
    {
     "data": {
      "text/html": [
       "<div>\n",
       "<style scoped>\n",
       "    .dataframe tbody tr th:only-of-type {\n",
       "        vertical-align: middle;\n",
       "    }\n",
       "\n",
       "    .dataframe tbody tr th {\n",
       "        vertical-align: top;\n",
       "    }\n",
       "\n",
       "    .dataframe thead th {\n",
       "        text-align: right;\n",
       "    }\n",
       "</style>\n",
       "<table border=\"1\" class=\"dataframe\">\n",
       "  <thead>\n",
       "    <tr style=\"text-align: right;\">\n",
       "      <th>year</th>\n",
       "      <th>2020</th>\n",
       "      <th>2021</th>\n",
       "    </tr>\n",
       "    <tr>\n",
       "      <th>category</th>\n",
       "      <th></th>\n",
       "      <th></th>\n",
       "    </tr>\n",
       "  </thead>\n",
       "  <tbody>\n",
       "    <tr>\n",
       "      <th>detractors</th>\n",
       "      <td>0.168831</td>\n",
       "      <td>0.134752</td>\n",
       "    </tr>\n",
       "    <tr>\n",
       "      <th>passives</th>\n",
       "      <td>0.259740</td>\n",
       "      <td>0.241135</td>\n",
       "    </tr>\n",
       "    <tr>\n",
       "      <th>promoters</th>\n",
       "      <td>0.571429</td>\n",
       "      <td>0.624113</td>\n",
       "    </tr>\n",
       "  </tbody>\n",
       "</table>\n",
       "</div>"
      ],
      "text/plain": [
       "year            2020      2021\n",
       "category                      \n",
       "detractors  0.168831  0.134752\n",
       "passives    0.259740  0.241135\n",
       "promoters   0.571429  0.624113"
      ]
     },
     "execution_count": 29,
     "metadata": {},
     "output_type": "execute_result"
    }
   ],
   "source": [
    "# cross tab smb only\n",
    "pd.crosstab(df_smb['category'], df_smb['year'], normalize = 'columns')"
   ]
  },
  {
   "cell_type": "code",
   "execution_count": 30,
   "id": "be917ec9",
   "metadata": {},
   "outputs": [
    {
     "data": {
      "image/png": "[encoded data removed]",
      "text/plain": [
       "<Figure size 1440x576 with 2 Axes>"
      ]
     },
     "metadata": {},
     "output_type": "display_data"
    }
   ],
   "source": [
    "# 2020 to 2021 mm only proportion comparison\n",
    "\n",
    "fig, (ax1, ax2) = plt.subplots(1,2, figsize=(20,8))\n",
    "df_mm_2020['category'].value_counts().plot(kind = 'pie', ylabel = '', radius = 1, autopct='%1.1f%%', ax=ax1)\n",
    "df_mm_2021['category'].value_counts().plot(kind = 'pie', ylabel = '', radius = 1, autopct='%1.1f%%', ax=ax2)\n",
    "ax1.title.set_text('2020 mm Only')\n",
    "ax2.title.set_text('2021 mm Only')\n",
    "plt.show()"
   ]
  },
  {
   "cell_type": "code",
   "execution_count": 31,
   "id": "acec8514",
   "metadata": {},
   "outputs": [
    {
     "data": {
      "image/png": "[encoded data removed]",
      "text/plain": [
       "<Figure size 1440x576 with 2 Axes>"
      ]
     },
     "metadata": {},
     "output_type": "display_data"
    }
   ],
   "source": [
    "# 2020 to 2021 mm only proportion comparison\n",
    "\n",
    "fig, (ax1, ax2) = plt.subplots(1,2, figsize=(20,8))\n",
    "df_smb_2020['category'].value_counts().plot(kind = 'pie', ylabel = '', radius = 1, autopct='%1.1f%%', ax=ax1)\n",
    "df_smb_2021['category'].value_counts().plot(kind = 'pie', ylabel = '', radius = 1, autopct='%1.1f%%', ax=ax2)\n",
    "ax1.title.set_text('2020 smb Only')\n",
    "ax2.title.set_text('2021 smb Only')\n",
    "plt.show()"
   ]
  },
  {
   "cell_type": "code",
   "execution_count": 39,
   "id": "60a7cae2",
   "metadata": {},
   "outputs": [
    {
     "name": "stdout",
     "output_type": "stream",
     "text": [
      "2020 mm nps_val mean: 7.7974683544303796\n",
      "2021 mm nps_val mean: 8.011990407673862\n",
      "2020 smb nps_val mean: 8.337662337662337\n",
      "2021 smb nps_val mean: 8.391608391608392\n"
     ]
    }
   ],
   "source": [
    "# summary statistics for mm in 2020 and 2021\n",
    "\n",
    "\n",
    "print('2020 mm nps_val mean:',df_mm_2020['nps_val'].mean())\n",
    "print('2021 mm nps_val mean:',df_mm_2021['nps_val'].mean())\n",
    "\n",
    "# summary statistics for mm in 2020 and 2021\n",
    "\n",
    "\n",
    "print('2020 smb nps_val mean:',df_smb_2020['nps_val'].mean())\n",
    "print('2021 smb nps_val mean:',df_smb_2021['nps_val'].mean())"
   ]
  },
  {
   "cell_type": "markdown",
   "id": "7f029b3f",
   "metadata": {},
   "source": [
    "# Findings\n",
    "\n",
    "- It appears that the proportions of promoters has increased from 2020 to 2021 for both mm and smb types.\n",
    "- The smb type appears to have a greater increase in the proportion of promoters than that of the mm types.\n",
    "- There is an increase in the nps val in the mm group, and a slight increase from the smb group\n",
    "- For next steps, I would focus on figuring out why mm did not receive an increase in promoters over the years. \n",
    "- For example, looking at whether the location of the respondent / demographic factors play a role in the change of promoters over the years for mm and smb types.\n",
    "- Using a a statistical test to further examine whether the increase in nps val from 2020 to 2021 is significant\n"
   ]
  },
  {
   "cell_type": "code",
   "execution_count": null,
   "id": "e1cacb5b",
   "metadata": {},
   "outputs": [],
   "source": []
  }
 ],
 "metadata": {
  "kernelspec": {
   "display_name": "Python 3 (ipykernel)",
   "language": "python",
   "name": "python3"
  },
  "language_info": {
   "codemirror_mode": {
    "name": "ipython",
    "version": 3
   },
   "file_extension": ".py",
   "mimetype": "text/x-python",
   "name": "python",
   "nbconvert_exporter": "python",
   "pygments_lexer": "ipython3",
   "version": "3.9.7"
  }
 },
 "nbformat": 4,
 "nbformat_minor": 5
}
